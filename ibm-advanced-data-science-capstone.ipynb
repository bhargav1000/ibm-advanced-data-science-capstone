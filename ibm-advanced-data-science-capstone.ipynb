{
 "cells": [
  {
   "cell_type": "markdown",
   "metadata": {},
   "source": [
    "# Modeling Customer Subscription Preference with Apache Spark"
   ]
  },
  {
   "cell_type": "markdown",
   "metadata": {},
   "source": [
    "Targeted Marketing campaigns are a very effective means of reaching prospective customers. However, such campaigns must be predicated on an empirical and systematic framework.  A predictive classification model derived from a supervised machine learning algorithm presents such a framework. Sections of a prescribed customer-base can be delineated for preferential marketing outreach based on classification output from a predictive model;  thereby saving scarce human and capital resources. \n",
    "\n",
    "A dataset that has been generated from a telemarketing campaign to sell long-term bank deposit subscriptions of a Retail Bank is used to train the predictive model. The dataset is obtained from the UCI Machine Learning Repository. The dataset is conceptually divided into, for every entry, a feature set and a target label. The feature set is comprised of client related data, contact-centre related data, and associated socio-economic indicators. The target label consists of a binary-class that indicates the subscription preference of a client - yes or no.\n",
    "\n",
    "Apache Spark is a parallel cluster computing engine that is widely adopted for scaling data science projects. It is famed for its speed, support for multiple languages (Scala, Java, R, and Python), and advanced analytics offering one of which is the dedicated machine learning library, sparkML. The sparkML module is engaged to train the predictive model using the pyspark API, which is Python's syntax interface with Apache Spark computing engine."
   ]
  },
  {
   "cell_type": "markdown",
   "metadata": {},
   "source": [
    "## 1. ETL Process"
   ]
  },
  {
   "cell_type": "markdown",
   "metadata": {},
   "source": [
    "We begin with the Extract-Transfrom-Load process. The dataset is 'extracted' from the source repository on the web and loaded into a Pandas DataFrame for onward pre-processing and exploratory analysis"
   ]
  },
  {
   "cell_type": "markdown",
   "metadata": {},
   "source": [
    "### Import Dependencies"
   ]
  },
  {
   "cell_type": "code",
   "execution_count": 1,
   "metadata": {},
   "outputs": [
    {
     "name": "stdout",
     "output_type": "stream",
     "text": [
      "Waiting for a Spark session to start...\n",
      "Spark Initialization Done! ApplicationId = app-20210718081404-0003\n",
      "KERNEL_ID = 605f734d-e827-4257-8ffb-ca03b86007a6\n"
     ]
    }
   ],
   "source": [
    "import pandas as pd\n",
    "import numpy as np\n",
    "\n",
    "import matplotlib.pyplot as plt\n",
    "import seaborn as sns\n",
    "\n",
    "pd.set_option('display.max_columns', None)"
   ]
  },
  {
   "cell_type": "markdown",
   "metadata": {},
   "source": [
    "### Extract and Load Dataset into a Pandas DataFrame"
   ]
  },
  {
   "cell_type": "code",
   "execution_count": 2,
   "metadata": {},
   "outputs": [
    {
     "name": "stdout",
     "output_type": "stream",
     "text": [
      "Processing ./.cache/pip/wheels/a1/b6/7c/0e63e34eb06634181c63adacca38b79ff8f35c37e3c13e3c02/wget-3.2-py3-none-any.whl\n",
      "Installing collected packages: wget\n",
      "Successfully installed wget-3.2\n",
      "\u001b[33mWARNING: Target directory /home/spark/shared/user-libs/python3.7/wget-3.2.dist-info already exists. Specify --upgrade to force replacement.\u001b[0m\n",
      "\u001b[33mWARNING: Target directory /home/spark/shared/user-libs/python3.7/__pycache__ already exists. Specify --upgrade to force replacement.\u001b[0m\n",
      "\u001b[33mWARNING: Target directory /home/spark/shared/user-libs/python3.7/wget.py already exists. Specify --upgrade to force replacement.\u001b[0m\n"
     ]
    }
   ],
   "source": [
    "!pip install wget"
   ]
  },
  {
   "cell_type": "code",
   "execution_count": 3,
   "metadata": {
    "scrolled": true
   },
   "outputs": [
    {
     "data": {
      "text/html": [
       "<div>\n",
       "<style scoped>\n",
       "    .dataframe tbody tr th:only-of-type {\n",
       "        vertical-align: middle;\n",
       "    }\n",
       "\n",
       "    .dataframe tbody tr th {\n",
       "        vertical-align: top;\n",
       "    }\n",
       "\n",
       "    .dataframe thead th {\n",
       "        text-align: right;\n",
       "    }\n",
       "</style>\n",
       "<table border=\"1\" class=\"dataframe\">\n",
       "  <thead>\n",
       "    <tr style=\"text-align: right;\">\n",
       "      <th></th>\n",
       "      <th>age</th>\n",
       "      <th>job</th>\n",
       "      <th>marital</th>\n",
       "      <th>education</th>\n",
       "      <th>default</th>\n",
       "      <th>housing</th>\n",
       "      <th>loan</th>\n",
       "      <th>contact</th>\n",
       "      <th>month</th>\n",
       "      <th>day_of_week</th>\n",
       "      <th>duration</th>\n",
       "      <th>campaign</th>\n",
       "      <th>pdays</th>\n",
       "      <th>previous</th>\n",
       "      <th>poutcome</th>\n",
       "      <th>emp.var.rate</th>\n",
       "      <th>cons.price.idx</th>\n",
       "      <th>cons.conf.idx</th>\n",
       "      <th>euribor3m</th>\n",
       "      <th>nr.employed</th>\n",
       "      <th>y</th>\n",
       "    </tr>\n",
       "  </thead>\n",
       "  <tbody>\n",
       "    <tr>\n",
       "      <th>0</th>\n",
       "      <td>56</td>\n",
       "      <td>housemaid</td>\n",
       "      <td>married</td>\n",
       "      <td>basic.4y</td>\n",
       "      <td>no</td>\n",
       "      <td>no</td>\n",
       "      <td>no</td>\n",
       "      <td>telephone</td>\n",
       "      <td>may</td>\n",
       "      <td>mon</td>\n",
       "      <td>261</td>\n",
       "      <td>1</td>\n",
       "      <td>999</td>\n",
       "      <td>0</td>\n",
       "      <td>nonexistent</td>\n",
       "      <td>1.1</td>\n",
       "      <td>93.994</td>\n",
       "      <td>-36.4</td>\n",
       "      <td>4.857</td>\n",
       "      <td>5191.0</td>\n",
       "      <td>no</td>\n",
       "    </tr>\n",
       "    <tr>\n",
       "      <th>1</th>\n",
       "      <td>57</td>\n",
       "      <td>services</td>\n",
       "      <td>married</td>\n",
       "      <td>high.school</td>\n",
       "      <td>unknown</td>\n",
       "      <td>no</td>\n",
       "      <td>no</td>\n",
       "      <td>telephone</td>\n",
       "      <td>may</td>\n",
       "      <td>mon</td>\n",
       "      <td>149</td>\n",
       "      <td>1</td>\n",
       "      <td>999</td>\n",
       "      <td>0</td>\n",
       "      <td>nonexistent</td>\n",
       "      <td>1.1</td>\n",
       "      <td>93.994</td>\n",
       "      <td>-36.4</td>\n",
       "      <td>4.857</td>\n",
       "      <td>5191.0</td>\n",
       "      <td>no</td>\n",
       "    </tr>\n",
       "    <tr>\n",
       "      <th>2</th>\n",
       "      <td>37</td>\n",
       "      <td>services</td>\n",
       "      <td>married</td>\n",
       "      <td>high.school</td>\n",
       "      <td>no</td>\n",
       "      <td>yes</td>\n",
       "      <td>no</td>\n",
       "      <td>telephone</td>\n",
       "      <td>may</td>\n",
       "      <td>mon</td>\n",
       "      <td>226</td>\n",
       "      <td>1</td>\n",
       "      <td>999</td>\n",
       "      <td>0</td>\n",
       "      <td>nonexistent</td>\n",
       "      <td>1.1</td>\n",
       "      <td>93.994</td>\n",
       "      <td>-36.4</td>\n",
       "      <td>4.857</td>\n",
       "      <td>5191.0</td>\n",
       "      <td>no</td>\n",
       "    </tr>\n",
       "    <tr>\n",
       "      <th>3</th>\n",
       "      <td>40</td>\n",
       "      <td>admin.</td>\n",
       "      <td>married</td>\n",
       "      <td>basic.6y</td>\n",
       "      <td>no</td>\n",
       "      <td>no</td>\n",
       "      <td>no</td>\n",
       "      <td>telephone</td>\n",
       "      <td>may</td>\n",
       "      <td>mon</td>\n",
       "      <td>151</td>\n",
       "      <td>1</td>\n",
       "      <td>999</td>\n",
       "      <td>0</td>\n",
       "      <td>nonexistent</td>\n",
       "      <td>1.1</td>\n",
       "      <td>93.994</td>\n",
       "      <td>-36.4</td>\n",
       "      <td>4.857</td>\n",
       "      <td>5191.0</td>\n",
       "      <td>no</td>\n",
       "    </tr>\n",
       "    <tr>\n",
       "      <th>4</th>\n",
       "      <td>56</td>\n",
       "      <td>services</td>\n",
       "      <td>married</td>\n",
       "      <td>high.school</td>\n",
       "      <td>no</td>\n",
       "      <td>no</td>\n",
       "      <td>yes</td>\n",
       "      <td>telephone</td>\n",
       "      <td>may</td>\n",
       "      <td>mon</td>\n",
       "      <td>307</td>\n",
       "      <td>1</td>\n",
       "      <td>999</td>\n",
       "      <td>0</td>\n",
       "      <td>nonexistent</td>\n",
       "      <td>1.1</td>\n",
       "      <td>93.994</td>\n",
       "      <td>-36.4</td>\n",
       "      <td>4.857</td>\n",
       "      <td>5191.0</td>\n",
       "      <td>no</td>\n",
       "    </tr>\n",
       "    <tr>\n",
       "      <th>5</th>\n",
       "      <td>45</td>\n",
       "      <td>services</td>\n",
       "      <td>married</td>\n",
       "      <td>basic.9y</td>\n",
       "      <td>unknown</td>\n",
       "      <td>no</td>\n",
       "      <td>no</td>\n",
       "      <td>telephone</td>\n",
       "      <td>may</td>\n",
       "      <td>mon</td>\n",
       "      <td>198</td>\n",
       "      <td>1</td>\n",
       "      <td>999</td>\n",
       "      <td>0</td>\n",
       "      <td>nonexistent</td>\n",
       "      <td>1.1</td>\n",
       "      <td>93.994</td>\n",
       "      <td>-36.4</td>\n",
       "      <td>4.857</td>\n",
       "      <td>5191.0</td>\n",
       "      <td>no</td>\n",
       "    </tr>\n",
       "    <tr>\n",
       "      <th>6</th>\n",
       "      <td>59</td>\n",
       "      <td>admin.</td>\n",
       "      <td>married</td>\n",
       "      <td>professional.course</td>\n",
       "      <td>no</td>\n",
       "      <td>no</td>\n",
       "      <td>no</td>\n",
       "      <td>telephone</td>\n",
       "      <td>may</td>\n",
       "      <td>mon</td>\n",
       "      <td>139</td>\n",
       "      <td>1</td>\n",
       "      <td>999</td>\n",
       "      <td>0</td>\n",
       "      <td>nonexistent</td>\n",
       "      <td>1.1</td>\n",
       "      <td>93.994</td>\n",
       "      <td>-36.4</td>\n",
       "      <td>4.857</td>\n",
       "      <td>5191.0</td>\n",
       "      <td>no</td>\n",
       "    </tr>\n",
       "    <tr>\n",
       "      <th>7</th>\n",
       "      <td>41</td>\n",
       "      <td>blue-collar</td>\n",
       "      <td>married</td>\n",
       "      <td>unknown</td>\n",
       "      <td>unknown</td>\n",
       "      <td>no</td>\n",
       "      <td>no</td>\n",
       "      <td>telephone</td>\n",
       "      <td>may</td>\n",
       "      <td>mon</td>\n",
       "      <td>217</td>\n",
       "      <td>1</td>\n",
       "      <td>999</td>\n",
       "      <td>0</td>\n",
       "      <td>nonexistent</td>\n",
       "      <td>1.1</td>\n",
       "      <td>93.994</td>\n",
       "      <td>-36.4</td>\n",
       "      <td>4.857</td>\n",
       "      <td>5191.0</td>\n",
       "      <td>no</td>\n",
       "    </tr>\n",
       "    <tr>\n",
       "      <th>8</th>\n",
       "      <td>24</td>\n",
       "      <td>technician</td>\n",
       "      <td>single</td>\n",
       "      <td>professional.course</td>\n",
       "      <td>no</td>\n",
       "      <td>yes</td>\n",
       "      <td>no</td>\n",
       "      <td>telephone</td>\n",
       "      <td>may</td>\n",
       "      <td>mon</td>\n",
       "      <td>380</td>\n",
       "      <td>1</td>\n",
       "      <td>999</td>\n",
       "      <td>0</td>\n",
       "      <td>nonexistent</td>\n",
       "      <td>1.1</td>\n",
       "      <td>93.994</td>\n",
       "      <td>-36.4</td>\n",
       "      <td>4.857</td>\n",
       "      <td>5191.0</td>\n",
       "      <td>no</td>\n",
       "    </tr>\n",
       "    <tr>\n",
       "      <th>9</th>\n",
       "      <td>25</td>\n",
       "      <td>services</td>\n",
       "      <td>single</td>\n",
       "      <td>high.school</td>\n",
       "      <td>no</td>\n",
       "      <td>yes</td>\n",
       "      <td>no</td>\n",
       "      <td>telephone</td>\n",
       "      <td>may</td>\n",
       "      <td>mon</td>\n",
       "      <td>50</td>\n",
       "      <td>1</td>\n",
       "      <td>999</td>\n",
       "      <td>0</td>\n",
       "      <td>nonexistent</td>\n",
       "      <td>1.1</td>\n",
       "      <td>93.994</td>\n",
       "      <td>-36.4</td>\n",
       "      <td>4.857</td>\n",
       "      <td>5191.0</td>\n",
       "      <td>no</td>\n",
       "    </tr>\n",
       "  </tbody>\n",
       "</table>\n",
       "</div>"
      ],
      "text/plain": [
       "   age          job  marital            education  default housing loan  \\\n",
       "0   56    housemaid  married             basic.4y       no      no   no   \n",
       "1   57     services  married          high.school  unknown      no   no   \n",
       "2   37     services  married          high.school       no     yes   no   \n",
       "3   40       admin.  married             basic.6y       no      no   no   \n",
       "4   56     services  married          high.school       no      no  yes   \n",
       "5   45     services  married             basic.9y  unknown      no   no   \n",
       "6   59       admin.  married  professional.course       no      no   no   \n",
       "7   41  blue-collar  married              unknown  unknown      no   no   \n",
       "8   24   technician   single  professional.course       no     yes   no   \n",
       "9   25     services   single          high.school       no     yes   no   \n",
       "\n",
       "     contact month day_of_week  duration  campaign  pdays  previous  \\\n",
       "0  telephone   may         mon       261         1    999         0   \n",
       "1  telephone   may         mon       149         1    999         0   \n",
       "2  telephone   may         mon       226         1    999         0   \n",
       "3  telephone   may         mon       151         1    999         0   \n",
       "4  telephone   may         mon       307         1    999         0   \n",
       "5  telephone   may         mon       198         1    999         0   \n",
       "6  telephone   may         mon       139         1    999         0   \n",
       "7  telephone   may         mon       217         1    999         0   \n",
       "8  telephone   may         mon       380         1    999         0   \n",
       "9  telephone   may         mon        50         1    999         0   \n",
       "\n",
       "      poutcome  emp.var.rate  cons.price.idx  cons.conf.idx  euribor3m  \\\n",
       "0  nonexistent           1.1          93.994          -36.4      4.857   \n",
       "1  nonexistent           1.1          93.994          -36.4      4.857   \n",
       "2  nonexistent           1.1          93.994          -36.4      4.857   \n",
       "3  nonexistent           1.1          93.994          -36.4      4.857   \n",
       "4  nonexistent           1.1          93.994          -36.4      4.857   \n",
       "5  nonexistent           1.1          93.994          -36.4      4.857   \n",
       "6  nonexistent           1.1          93.994          -36.4      4.857   \n",
       "7  nonexistent           1.1          93.994          -36.4      4.857   \n",
       "8  nonexistent           1.1          93.994          -36.4      4.857   \n",
       "9  nonexistent           1.1          93.994          -36.4      4.857   \n",
       "\n",
       "   nr.employed   y  \n",
       "0       5191.0  no  \n",
       "1       5191.0  no  \n",
       "2       5191.0  no  \n",
       "3       5191.0  no  \n",
       "4       5191.0  no  \n",
       "5       5191.0  no  \n",
       "6       5191.0  no  \n",
       "7       5191.0  no  \n",
       "8       5191.0  no  \n",
       "9       5191.0  no  "
      ]
     },
     "execution_count": 3,
     "metadata": {},
     "output_type": "execute_result"
    }
   ],
   "source": [
    "### Download zip file containing dataset, and read into a DataFrame\n",
    "\n",
    "import wget\n",
    "url = 'http://archive.ics.uci.edu/ml/machine-learning-databases/00222/bank-additional.zip'\n",
    "wget.download(url) # download into working directory\n",
    "\n",
    "import zipfile\n",
    "with zipfile.ZipFile('bank-additional.zip', 'r') as f: # unzip folder\n",
    "    f.extractall()\n",
    "\n",
    "df_raw = pd.read_csv('./bank-additional/bank-additional-full.csv', sep=\";\") # read dataset into DataFrame\n",
    "\n",
    "df_raw_trial = df_raw.copy() # make a copy of the dataframe\n",
    "df_raw.head(10)"
   ]
  },
  {
   "cell_type": "markdown",
   "metadata": {},
   "source": [
    "## 2. Feature Engineering"
   ]
  },
  {
   "cell_type": "markdown",
   "metadata": {},
   "source": [
    "Subsequent to ETL, the dataset is prepared for modeling. The feature-set is optimized such that it is amenable to the classification machine learning algorithms. This usually involves feature selection, feature transformation, dimension reduction, feature creation.\n",
    "\n",
    "For our case-study, feature selection is implemented. Some pre-processing and exploratory steps are embedded as well."
   ]
  },
  {
   "cell_type": "code",
   "execution_count": 4,
   "metadata": {},
   "outputs": [
    {
     "name": "stdout",
     "output_type": "stream",
     "text": [
      "There are 41188 rows in the dataset\n",
      "The total number of columns in dataset is 21; 20 features and 1 target label\n"
     ]
    }
   ],
   "source": [
    "# Obtain shape of dataset; No of Features\n",
    "\n",
    "def dataset_shape(df):\n",
    "    print('There are %d rows in the dataset' % df.shape[0])\n",
    "    print('The total number of columns in dataset is %d; %d features and 1 target label' % \\\n",
    "          (df.shape[1], len(df.columns[:-1])))\n",
    "    \n",
    "dataset_shape(df_raw)"
   ]
  },
  {
   "cell_type": "code",
   "execution_count": 5,
   "metadata": {},
   "outputs": [],
   "source": [
    "# Rename the target feature\n",
    "\n",
    "df_raw.rename(columns={'y':'Subscription_Status'}, inplace=True)"
   ]
  },
  {
   "cell_type": "code",
   "execution_count": 6,
   "metadata": {},
   "outputs": [
    {
     "name": "stdout",
     "output_type": "stream",
     "text": [
      "  Subscription_Status  Count Percentage\n",
      "0                  no  36548     88.73%\n",
      "1                 yes   4640     11.27%\n"
     ]
    },
    {
     "data": {
      "image/png": "[encoded data removed]",
      "text/plain": [
       "<Figure size 720x288 with 1 Axes>"
      ]
     },
     "metadata": {
      "needs_background": "light"
     },
     "output_type": "display_data"
    }
   ],
   "source": [
    "# Plot the distribution of the target label ('Subscription_Status') \n",
    "\n",
    "df_targetLabel = df_raw['Subscription_Status'].value_counts().to_frame().reset_index()\n",
    "df_targetLabel.rename(columns={'index':'Subscription_Status', 'Subscription_Status':'Count'}, inplace=True)\n",
    "df_targetLabel['Percentage'] = ((df_targetLabel['Count']/df_targetLabel['Count'].sum())*100).map('{:.2f}%'.format)\n",
    "\n",
    "fig = plt.figure(figsize=(10,4))\n",
    "ax = sns.countplot(y='Subscription_Status', data=df_raw)\n",
    "ax.set_title('Count Plot of Target Label')\n",
    "ax.set_xlabel('Count', fontsize=12)\n",
    "ax.set_ylabel('Subscription_Status', fontsize=12)\n",
    "print(df_targetLabel)"
   ]
  },
  {
   "cell_type": "markdown",
   "metadata": {},
   "source": [
    "The above chart reveals the target label is imbalanced. The subscription rates are generally low. This may have an adverse effect on the ability of the model to predict a positive subscription preference since it would have been trained on a dataset biased towards negative subscription preference. \n",
    "\n",
    "Consequently, the precision and recall evaluation metrics will be adopted to ascertain the performance of the trained models. These metrics are more suited for imbalanced classification problems."
   ]
  },
  {
   "cell_type": "code",
   "execution_count": 7,
   "metadata": {
    "scrolled": true
   },
   "outputs": [
    {
     "name": "stdout",
     "output_type": "stream",
     "text": [
      "age \n",
      " False    41188\n",
      "Name: age, dtype: int64 \n",
      "\n",
      "job \n",
      " False    41188\n",
      "Name: job, dtype: int64 \n",
      "\n",
      "marital \n",
      " False    41188\n",
      "Name: marital, dtype: int64 \n",
      "\n",
      "education \n",
      " False    41188\n",
      "Name: education, dtype: int64 \n",
      "\n",
      "default \n",
      " False    41188\n",
      "Name: default, dtype: int64 \n",
      "\n",
      "housing \n",
      " False    41188\n",
      "Name: housing, dtype: int64 \n",
      "\n",
      "loan \n",
      " False    41188\n",
      "Name: loan, dtype: int64 \n",
      "\n",
      "contact \n",
      " False    41188\n",
      "Name: contact, dtype: int64 \n",
      "\n",
      "month \n",
      " False    41188\n",
      "Name: month, dtype: int64 \n",
      "\n",
      "day_of_week \n",
      " False    41188\n",
      "Name: day_of_week, dtype: int64 \n",
      "\n",
      "duration \n",
      " False    41188\n",
      "Name: duration, dtype: int64 \n",
      "\n",
      "campaign \n",
      " False    41188\n",
      "Name: campaign, dtype: int64 \n",
      "\n",
      "pdays \n",
      " False    41188\n",
      "Name: pdays, dtype: int64 \n",
      "\n",
      "previous \n",
      " False    41188\n",
      "Name: previous, dtype: int64 \n",
      "\n",
      "poutcome \n",
      " False    41188\n",
      "Name: poutcome, dtype: int64 \n",
      "\n",
      "emp.var.rate \n",
      " False    41188\n",
      "Name: emp.var.rate, dtype: int64 \n",
      "\n",
      "cons.price.idx \n",
      " False    41188\n",
      "Name: cons.price.idx, dtype: int64 \n",
      "\n",
      "cons.conf.idx \n",
      " False    41188\n",
      "Name: cons.conf.idx, dtype: int64 \n",
      "\n",
      "euribor3m \n",
      " False    41188\n",
      "Name: euribor3m, dtype: int64 \n",
      "\n",
      "nr.employed \n",
      " False    41188\n",
      "Name: nr.employed, dtype: int64 \n",
      "\n",
      "Subscription_Status \n",
      " False    41188\n",
      "Name: Subscription_Status, dtype: int64 \n",
      "\n"
     ]
    }
   ],
   "source": [
    "# Check entire dataset for null values\n",
    "\n",
    "for col in df_raw.columns:\n",
    "    print(col, '\\n', df_raw[col].isnull().value_counts(), '\\n')"
   ]
  },
  {
   "cell_type": "markdown",
   "metadata": {},
   "source": [
    "Before proceeding with more exploratory analysis, the feature selection step is implemented.\n",
    "\n",
    "A fundamental assumption in this study is that the client subscription preference is predicated upon an underlying propensity. In order words, a client already had a preference before being contacted by a telemarketing campaign. \n",
    "\n",
    "Besides, the objective of our modeling is to try to predict a client's preference (before they are contacted) so that telemarketing campaigns can be targeted. This would ultimately save cost and improve turn-around times.\n",
    "\n",
    "Consequently, all contact-centre related features are dropped."
   ]
  },
  {
   "cell_type": "code",
   "execution_count": 8,
   "metadata": {},
   "outputs": [
    {
     "name": "stdout",
     "output_type": "stream",
     "text": [
      "The total number of columns in dataset is now 13 \n",
      "\n",
      "A total of 8 columns have been dropped!\n"
     ]
    }
   ],
   "source": [
    "# Drop irrelevent Features: Those that refer to the involvement of the client with the Marketing contact-centre\n",
    "\n",
    "Init_length = len(df_raw.columns) # initial column composition of dataset \n",
    "\n",
    "To_drop = ['contact', 'month', 'day_of_week', 'duration', 'campaign', 'pdays',\n",
    "           'previous', 'poutcome']\n",
    "\n",
    "df_raw.drop(To_drop, axis=1, inplace=True)\n",
    "\n",
    "print('The total number of columns in dataset is now %d' % (Init_length-len(To_drop)), '\\n')\n",
    "print('A total of %d columns have been dropped!' % len(To_drop))"
   ]
  },
  {
   "cell_type": "markdown",
   "metadata": {},
   "source": [
    "### Explore Categorical Features"
   ]
  },
  {
   "cell_type": "markdown",
   "metadata": {},
   "source": [
    "The categorical features have widely distributed entries of 'unknown'. Such entries are explored and ultimately removed with the series of codes below:"
   ]
  },
  {
   "cell_type": "code",
   "execution_count": 9,
   "metadata": {},
   "outputs": [
    {
     "name": "stdout",
     "output_type": "stream",
     "text": [
      "job: 330 \n",
      "\n",
      "marital: 80 \n",
      "\n",
      "education: 1731 \n",
      "\n",
      "default: 8597 \n",
      "\n",
      "housing: 990 \n",
      "\n",
      "loan: 990 \n",
      "\n"
     ]
    }
   ],
   "source": [
    "# Explore 'unknown values': Display the number of 'unknown' values in each categorical features \n",
    "\n",
    "columns_categorical = ['job', 'marital', 'education', 'default', 'housing', 'loan'] # Categorical Features\n",
    "\n",
    "for col in columns_categorical:\n",
    "    unknown_count = df_raw[df_raw[col]=='unknown'].shape[0]\n",
    "    print(col + ':', unknown_count, '\\n')"
   ]
  },
  {
   "cell_type": "code",
   "execution_count": 10,
   "metadata": {
    "scrolled": false
   },
   "outputs": [
    {
     "data": {
      "image/png": "[encoded data removed]",
      "text/plain": [
       "<Figure size 864x1080 with 6 Axes>"
      ]
     },
     "metadata": {
      "needs_background": "light"
     },
     "output_type": "display_data"
    }
   ],
   "source": [
    "# Make subplots of Categorical Features against the target label('Subscription_Status') in order to assess information content\n",
    "\n",
    "#fig = plt.figure(figsize=(20,25))\n",
    "fig = plt.figure(figsize=(12,15))\n",
    "\n",
    "for n, feature in zip(range(1,7), columns_categorical):\n",
    "    axn = fig.add_subplot(3,2,n)\n",
    "    sns.countplot(x='Subscription_Status', hue=feature, data=df_raw)\n",
    "    axn.set_title('Feature: ' + feature, fontsize=12)\n",
    "    axn.set_ylabel('Feature Count', fontsize=13)\n",
    "    axn.set_xlabel('Subscription_Status', fontsize=10)\n",
    "        "
   ]
  },
  {
   "cell_type": "markdown",
   "metadata": {},
   "source": [
    "The above chart relates the wide distribution of 'unknown' entries among the feature set. Such entries are subsequently dropped.\n",
    "\n",
    "In addition, the 'default' feature (consists of classes 'yes' and 'no') is dropped due to its low information content: \n",
    "- more than 20% of the entries are 'unknown'\n",
    "- only 0.007% are of the class 'yes'"
   ]
  },
  {
   "cell_type": "code",
   "execution_count": 11,
   "metadata": {},
   "outputs": [
    {
     "name": "stdout",
     "output_type": "stream",
     "text": [
      "There are 30488 rows in the dataset\n",
      "The total number of columns in dataset is 12; 11 features and 1 target label\n"
     ]
    }
   ],
   "source": [
    "# Drop all rows having 'unknown' values \n",
    "for col in columns_categorical:\n",
    "    df_raw.drop(df_raw[df_raw[col]=='unknown'].index, axis=0, inplace=True)\n",
    "    \n",
    "# The 'default' feature is subsequently dropped as the plot reveals low information content with more than 20% 'unknown'\n",
    "df_raw.drop('default', axis=1, inplace=True)\n",
    "\n",
    "dataset_shape(df_raw)"
   ]
  },
  {
   "cell_type": "markdown",
   "metadata": {},
   "source": [
    "### Explore Numeric Features"
   ]
  },
  {
   "cell_type": "code",
   "execution_count": 12,
   "metadata": {},
   "outputs": [
    {
     "data": {
      "image/png": "[encoded data removed]",
      "text/plain": [
       "<Figure size 1080x864 with 6 Axes>"
      ]
     },
     "metadata": {
      "needs_background": "light"
     },
     "output_type": "display_data"
    }
   ],
   "source": [
    "# Make boxplots of Numeric features against target label\n",
    "\n",
    "columns_numerical = ['age', 'emp.var.rate', 'cons.price.idx', 'cons.conf.idx', 'euribor3m', 'nr.employed'] # Numerical Features\n",
    "fig = plt.figure(figsize=(15,12))\n",
    "\n",
    "\n",
    "for n, feature in zip(range(1,7), columns_numerical):\n",
    "    sns.set_style(\"whitegrid\")\n",
    "    axn = fig.add_subplot(2,3,n)\n",
    "    axn = sns.boxplot(x='Subscription_Status', y=feature, data=df_raw)\n",
    "    axn.set_title('Feature: ' + feature, size=14)\n",
    "    axn.set_ylabel(feature, size=12)\n",
    "    axn.set_xlabel('Subscription_Status', size=12)\n",
    "    #ax.set(ylabel = feature, xlabel = label)\n"
   ]
  },
  {
   "cell_type": "code",
   "execution_count": 13,
   "metadata": {},
   "outputs": [
    {
     "name": "stdout",
     "output_type": "stream",
     "text": [
      "There are 30488 rows in the dataset\n",
      "The total number of columns in dataset is 12; 11 features and 1 target label\n"
     ]
    }
   ],
   "source": [
    "# Dimensions of cleaned and feature-engineered dataset \n",
    "\n",
    "dataset_shape(df_raw)"
   ]
  },
  {
   "cell_type": "markdown",
   "metadata": {},
   "source": [
    "### Load Pandas DataFrame 'df_raw' as spark DataFrame"
   ]
  },
  {
   "cell_type": "markdown",
   "metadata": {},
   "source": [
    "Now that the pre-processing, exploratory, and feature engineering steps are concluded, the pandas dataframe is loaded as a spark dataframe before the sparkML library of Apache Spark can be engaged.\n",
    "\n",
    "However, before we begin modeling on the Apache Spark platform, a SparkSession must be created. The SparkSession is the entry point to programming Apache Spark with the Dataset and Dataframe API."
   ]
  },
  {
   "cell_type": "code",
   "execution_count": 14,
   "metadata": {},
   "outputs": [
    {
     "name": "stdout",
     "output_type": "stream",
     "text": [
      "Collecting pyspark\n",
      "  Downloading pyspark-3.1.2.tar.gz (212.4 MB)\n",
      "\u001b[K     |████████████████████████████████| 212.4 MB 128 kB/s  eta 0:00:01        | 36.9 MB 12.4 MB/s eta 0:00:15\n",
      "\u001b[?25hCollecting py4j==0.10.9\n",
      "  Downloading py4j-0.10.9-py2.py3-none-any.whl (198 kB)\n",
      "\u001b[K     |████████████████████████████████| 198 kB 74.3 MB/s eta 0:00:01\n",
      "\u001b[?25hBuilding wheels for collected packages: pyspark\n",
      "  Building wheel for pyspark (setup.py) ... \u001b[?25ldone\n",
      "\u001b[?25h  Created wheel for pyspark: filename=pyspark-3.1.2-py2.py3-none-any.whl size=212880770 sha256=a2fdebe536bc6b84b52ef7e9978d4db6dd072573cd978b5357fd518fdf03d685\n",
      "  Stored in directory: /home/spark/shared/.cache/pip/wheels/a5/0a/c1/9561f6fecb759579a7d863dcd846daaa95f598744e71b02c77\n",
      "Successfully built pyspark\n",
      "\u001b[31mERROR: sparktspy-nojars 2.0.5.0 has requirement pyspark==3.0.1, but you'll have pyspark 3.1.2 which is incompatible.\u001b[0m\n",
      "Installing collected packages: py4j, pyspark\n",
      "Successfully installed py4j-0.10.9 pyspark-3.1.2\n",
      "Collecting findspark\n",
      "  Downloading findspark-1.4.2-py2.py3-none-any.whl (4.2 kB)\n",
      "Installing collected packages: findspark\n",
      "Successfully installed findspark-1.4.2\n",
      "\u001b[33mWARNING: Target directory /home/spark/shared/user-libs/python3.7/__pycache__ already exists. Specify --upgrade to force replacement.\u001b[0m\n"
     ]
    }
   ],
   "source": [
    "# initialize pyspark\n",
    "# Skip the code below if running on IBM Watson/Cloud Pak for Data\n",
    "\n",
    "!pip install pyspark\n",
    "\n",
    "!pip install findspark\n",
    "import findspark\n",
    "findspark.init()"
   ]
  },
  {
   "cell_type": "code",
   "execution_count": 15,
   "metadata": {},
   "outputs": [],
   "source": [
    "# Create Sparksession\n",
    "\n",
    "from pyspark import SparkContext, SparkConf\n",
    "from pyspark.sql import SparkSession\n",
    "        \n",
    "sc = SparkContext.getOrCreate(SparkConf().setMaster(\"local[*]\"))\n",
    "\n",
    "spark = SparkSession.builder.getOrCreate()"
   ]
  },
  {
   "cell_type": "code",
   "execution_count": 16,
   "metadata": {
    "scrolled": true
   },
   "outputs": [
    {
     "name": "stdout",
     "output_type": "stream",
     "text": [
      "root\n",
      " |-- age: integer (nullable = true)\n",
      " |-- job: string (nullable = true)\n",
      " |-- marital: string (nullable = true)\n",
      " |-- education: string (nullable = true)\n",
      " |-- housing: string (nullable = true)\n",
      " |-- loan: string (nullable = true)\n",
      " |-- emp.var.rate: float (nullable = true)\n",
      " |-- cons.price.idx: float (nullable = true)\n",
      " |-- cons.conf.idx: float (nullable = true)\n",
      " |-- euribor3m: float (nullable = true)\n",
      " |-- nr.employed: float (nullable = true)\n",
      " |-- Subscription_Status: string (nullable = true)\n",
      "\n"
     ]
    }
   ],
   "source": [
    "# Load pandas DataFrame 'df_raw' as spark DataFrame object. Define explicit schema to facilitate\n",
    "\n",
    "m = list(df_raw.columns) # list of pandas dataframe columns\n",
    "\n",
    "from pyspark.sql.types import * \n",
    "\n",
    "schema = StructType([\n",
    "    StructField(m[0],IntegerType(), True),\n",
    "    StructField(m[1],StringType(), True),\n",
    "    StructField(m[2],StringType(), True),\n",
    "    StructField(m[3],StringType(), True),\n",
    "    StructField(m[4],StringType(), True),\n",
    "    StructField(m[5],StringType(), True),\n",
    "    StructField(m[6],FloatType(), True),\n",
    "    StructField(m[7],FloatType(), True),\n",
    "    StructField(m[8],FloatType(), True),\n",
    "    StructField(m[9],FloatType(), True),\n",
    "    StructField(m[10],FloatType(), True),\n",
    "    StructField(m[11],StringType(), True)])\n",
    "\n",
    "\n",
    "Market_pred = spark.createDataFrame(df_raw, schema)\n",
    "\n",
    "Market_pred.printSchema()"
   ]
  },
  {
   "cell_type": "code",
   "execution_count": 17,
   "metadata": {},
   "outputs": [
    {
     "data": {
      "text/plain": [
       "['age',\n",
       " 'job',\n",
       " 'marital',\n",
       " 'education',\n",
       " 'housing',\n",
       " 'loan',\n",
       " 'emp_var_rate',\n",
       " 'cons_price_idx',\n",
       " 'cons_conf_idx',\n",
       " 'euribor3m',\n",
       " 'nr_employed',\n",
       " 'Subscription_Status']"
      ]
     },
     "execution_count": 17,
     "metadata": {},
     "output_type": "execute_result"
    }
   ],
   "source": [
    "# Rename columns\n",
    "\n",
    "column_old = ['emp.var.rate', 'cons.price.idx', 'cons.conf.idx', 'euribor3m', 'nr.employed']\n",
    "column_new = ['emp_var_rate', 'cons_price_idx', 'cons_conf_idx', 'euribor3m', 'nr_employed']\n",
    "\n",
    "for col_old, col_new in zip(column_old, column_new):\n",
    "    Market_pred = Market_pred.withColumnRenamed(col_old, col_new)\n",
    "#    Market_pred_binned = Market_pred_binned.withColumnRenamed(col_old, col_new)\n",
    "    \n",
    "            \n",
    "Market_pred.columns"
   ]
  },
  {
   "cell_type": "code",
   "execution_count": 18,
   "metadata": {},
   "outputs": [
    {
     "name": "stdout",
     "output_type": "stream",
     "text": [
      "Number of rows: 30488\n",
      "Number of columns: 12\n"
     ]
    }
   ],
   "source": [
    "# Confirm dimension of spark DataFrame (Market_pred)\n",
    "\n",
    "print('Number of rows: %d' % Market_pred.count())\n",
    "print('Number of columns: %d' % len(Market_pred.columns))"
   ]
  },
  {
   "cell_type": "markdown",
   "metadata": {},
   "source": [
    "## 3. Model Development"
   ]
  },
  {
   "cell_type": "markdown",
   "metadata": {},
   "source": [
    "The customer preference prediction is a binary classification problem since the target label is either a 'yes' or 'no'. Logistic Regression, Support Vector Machine (SVM), and ensemble decision tree algorithms (Random Forest and Gradient-Boosted Trees) are all applicable.\n",
    "\n",
    "Before the algorithms are implemented:\n",
    "- the categorical features (including target label) are Indexed\n",
    "- the Indexed features are oneHotEncoded\n",
    "- Vector transformation of the feature set is effected\n",
    "- the Vectorized feature set is normalized\n",
    "- the dataset is split into training and test set (80:20)"
   ]
  },
  {
   "cell_type": "code",
   "execution_count": 19,
   "metadata": {
    "scrolled": true
   },
   "outputs": [
    {
     "data": {
      "text/plain": [
       "['age',\n",
       " 'job',\n",
       " 'marital',\n",
       " 'education',\n",
       " 'housing',\n",
       " 'loan',\n",
       " 'emp_var_rate',\n",
       " 'cons_price_idx',\n",
       " 'cons_conf_idx',\n",
       " 'euribor3m',\n",
       " 'nr_employed',\n",
       " 'Subscription_Status',\n",
       " 'loan_index',\n",
       " 'housing_index',\n",
       " 'label',\n",
       " 'marital_index',\n",
       " 'education_index',\n",
       " 'job_index']"
      ]
     },
     "execution_count": 19,
     "metadata": {},
     "output_type": "execute_result"
    }
   ],
   "source": [
    "# Create Indexed equivalent of categorical features and target label\n",
    "from pyspark.ml.feature import StringIndexer\n",
    "\n",
    "columns_categorical = ['job', 'marital', 'education', 'housing', 'loan', 'Subscription_Status']\n",
    "columns_categorical_indexed = ['job_index', 'marital_index', 'education_index', 'housing_index', 'loan_index', 'label']\n",
    "\n",
    "indexer = StringIndexer(inputCols= columns_categorical, outputCols=columns_categorical_indexed)\n",
    "Market_indexed = indexer.fit(Market_pred).transform(Market_pred)\n",
    "    \n",
    "Market_indexed.columns"
   ]
  },
  {
   "cell_type": "code",
   "execution_count": 20,
   "metadata": {
    "scrolled": true
   },
   "outputs": [
    {
     "data": {
      "text/plain": [
       "['age',\n",
       " 'job',\n",
       " 'marital',\n",
       " 'education',\n",
       " 'housing',\n",
       " 'loan',\n",
       " 'emp_var_rate',\n",
       " 'cons_price_idx',\n",
       " 'cons_conf_idx',\n",
       " 'euribor3m',\n",
       " 'nr_employed',\n",
       " 'Subscription_Status',\n",
       " 'loan_index',\n",
       " 'housing_index',\n",
       " 'label',\n",
       " 'marital_index',\n",
       " 'education_index',\n",
       " 'job_index',\n",
       " 'housing_encode',\n",
       " 'marital_encode',\n",
       " 'education_encode',\n",
       " 'loan_encode',\n",
       " 'job_encode']"
      ]
     },
     "execution_count": 20,
     "metadata": {},
     "output_type": "execute_result"
    }
   ],
   "source": [
    "# One-Hot encode categorical features and target label\n",
    "from pyspark.ml.feature import OneHotEncoder\n",
    "\n",
    "columns_categorical_indexed = ['job_index', 'marital_index', 'education_index', 'housing_index', 'loan_index']\n",
    "columns_encoded = ['job_encode', 'marital_encode', 'education_encode', 'housing_encode', 'loan_encode']\n",
    "\n",
    "encoder = OneHotEncoder(inputCols=columns_categorical_indexed, outputCols=columns_encoded)\n",
    "Market_encoded = encoder.fit(Market_indexed).transform(Market_indexed)\n",
    "    \n",
    "Market_encoded.columns    "
   ]
  },
  {
   "cell_type": "code",
   "execution_count": 21,
   "metadata": {
    "scrolled": true
   },
   "outputs": [
    {
     "data": {
      "text/plain": [
       "['age',\n",
       " 'job',\n",
       " 'marital',\n",
       " 'education',\n",
       " 'housing',\n",
       " 'loan',\n",
       " 'emp_var_rate',\n",
       " 'cons_price_idx',\n",
       " 'cons_conf_idx',\n",
       " 'euribor3m',\n",
       " 'nr_employed',\n",
       " 'Subscription_Status',\n",
       " 'loan_index',\n",
       " 'housing_index',\n",
       " 'label',\n",
       " 'marital_index',\n",
       " 'education_index',\n",
       " 'job_index',\n",
       " 'housing_encode',\n",
       " 'marital_encode',\n",
       " 'education_encode',\n",
       " 'loan_encode',\n",
       " 'job_encode',\n",
       " 'features']"
      ]
     },
     "execution_count": 21,
     "metadata": {},
     "output_type": "execute_result"
    }
   ],
   "source": [
    "# Vector transformation of feature set\n",
    "from pyspark.ml.linalg import Vectors\n",
    "from pyspark.ml.feature import VectorAssembler\n",
    "\n",
    "columns_vectors = ['age', 'job_encode', 'marital_encode', 'education_encode', 'housing_encode', 'loan_encode',\n",
    "           'emp_var_rate', 'cons_price_idx', 'cons_conf_idx', 'euribor3m', 'nr_employed']\n",
    "\n",
    "\n",
    "assembler = VectorAssembler(inputCols=columns_vectors, outputCol='features')\n",
    "Market_encoded_vector = assembler.transform(Market_encoded)\n",
    "\n",
    "Market_encoded_vector.columns\n"
   ]
  },
  {
   "cell_type": "code",
   "execution_count": 22,
   "metadata": {
    "scrolled": true
   },
   "outputs": [
    {
     "data": {
      "text/plain": [
       "['age',\n",
       " 'job',\n",
       " 'marital',\n",
       " 'education',\n",
       " 'housing',\n",
       " 'loan',\n",
       " 'emp_var_rate',\n",
       " 'cons_price_idx',\n",
       " 'cons_conf_idx',\n",
       " 'euribor3m',\n",
       " 'nr_employed',\n",
       " 'Subscription_Status',\n",
       " 'loan_index',\n",
       " 'housing_index',\n",
       " 'label',\n",
       " 'marital_index',\n",
       " 'education_index',\n",
       " 'job_index',\n",
       " 'housing_encode',\n",
       " 'marital_encode',\n",
       " 'education_encode',\n",
       " 'loan_encode',\n",
       " 'job_encode',\n",
       " 'features',\n",
       " 'features_norm']"
      ]
     },
     "execution_count": 22,
     "metadata": {},
     "output_type": "execute_result"
    }
   ],
   "source": [
    "# Normalize feature set\n",
    "\n",
    "#from pyspark.ml.feature import Normalizer\n",
    "from pyspark.ml.feature import StandardScaler\n",
    "\n",
    "Norm = StandardScaler(inputCol='features',outputCol='features_norm')\n",
    "\n",
    "Market_encoded_normalized = Norm.fit(Market_encoded_vector).transform(Market_encoded_vector)\n",
    "Market_encoded_normalized.columns"
   ]
  },
  {
   "cell_type": "code",
   "execution_count": 23,
   "metadata": {},
   "outputs": [],
   "source": [
    "# Train-Test Split\n",
    "\n",
    "split = Market_pred.randomSplit([0.8, 0.2])\n",
    "Market_train = split[0]\n",
    "Market_test = split[1]   "
   ]
  },
  {
   "cell_type": "markdown",
   "metadata": {},
   "source": [
    "#### Logistic Regression"
   ]
  },
  {
   "cell_type": "code",
   "execution_count": 24,
   "metadata": {},
   "outputs": [
    {
     "name": "stdout",
     "output_type": "stream",
     "text": [
      "+---------+-----+\n",
      "|   Metric|     |\n",
      "+---------+-----+\n",
      "|   Recall|0.878|\n",
      "|Precision|0.771|\n",
      "|       f1|0.821|\n",
      "+---------+-----+\n",
      "\n"
     ]
    }
   ],
   "source": [
    "# Train Model\n",
    "from pyspark.ml.classification import LogisticRegression\n",
    "from pyspark.ml import Pipeline\n",
    "\n",
    "lr = LogisticRegression(maxIter = 10, regParam = 0.01, elasticNetParam = 0.8)\n",
    "pipeline_lr = Pipeline(stages=[indexer, encoder, assembler, Norm, lr])\n",
    "\n",
    "model_lr = pipeline_lr.fit(Market_train)\n",
    "prediction_lr = model_lr.transform(Market_test)\n",
    "\n",
    "# Evaluate Model\n",
    "from pyspark.ml.evaluation import MulticlassClassificationEvaluator \n",
    "\n",
    "lr_evaluator = MulticlassClassificationEvaluator().setMetricName('weightedRecall')\n",
    "lr_recall = '{:.3f}'.format(lr_evaluator.evaluate(prediction_lr))\n",
    "\n",
    "lr_evaluator_f1 = MulticlassClassificationEvaluator().setMetricName('f1')\n",
    "lr_f1 = '{:.3f}'.format(lr_evaluator_f1.evaluate(prediction_lr))\n",
    "\n",
    "lr_evaluator_precision = MulticlassClassificationEvaluator().setMetricName('weightedPrecision')\n",
    "lr_precision = '{:.3f}'.format(lr_evaluator_precision.evaluate(prediction_lr))\n",
    "\n",
    "# create spark DataFrame to tabulate metric\n",
    "Evaluation_lr = ([['Recall', lr_recall], ['Precision', lr_precision], ['f1', lr_f1]])\n",
    "spark.createDataFrame(Evaluation_lr, ['Metric', \"\"]).show()"
   ]
  },
  {
   "cell_type": "markdown",
   "metadata": {},
   "source": [
    "#### Support Vector Machine"
   ]
  },
  {
   "cell_type": "code",
   "execution_count": 25,
   "metadata": {},
   "outputs": [
    {
     "name": "stdout",
     "output_type": "stream",
     "text": [
      "+---------+-----+\n",
      "|   Metric|     |\n",
      "+---------+-----+\n",
      "|   Recall|0.878|\n",
      "|Precision|0.771|\n",
      "|       f1|0.821|\n",
      "+---------+-----+\n",
      "\n"
     ]
    }
   ],
   "source": [
    "# Train Model\n",
    "from pyspark.ml.classification import LinearSVC\n",
    "\n",
    "svm = LinearSVC(maxIter = 10, regParam = 0.01)\n",
    "pipeline_svm = Pipeline(stages=[indexer, encoder, assembler, Norm, svm])\n",
    "\n",
    "model_svm = pipeline_svm.fit(Market_train)\n",
    "prediction_svm = model_svm.transform(Market_test)\n",
    "\n",
    "# Evaluate Model\n",
    "from pyspark.ml.evaluation import BinaryClassificationEvaluator \n",
    "\n",
    "svm_evaluator = MulticlassClassificationEvaluator().setMetricName('weightedRecall')\n",
    "svm_recall = '{:.3f}'.format(svm_evaluator.evaluate(prediction_svm))\n",
    "\n",
    "svm_evaluator_f1 = MulticlassClassificationEvaluator().setMetricName('f1')\n",
    "svm_f1 = '{:.3f}'.format(svm_evaluator_f1.evaluate(prediction_svm))\n",
    "\n",
    "svm_evaluator_precision = MulticlassClassificationEvaluator().setMetricName('weightedPrecision')\n",
    "svm_precision = '{:.3f}'.format(svm_evaluator_precision.evaluate(prediction_svm))\n",
    "\n",
    "# create spark DataFrame to tabulate metric \n",
    "Evaluation_svm = ([['Recall', svm_recall], ['Precision', svm_precision], ['f1', svm_f1]])\n",
    "spark.createDataFrame(Evaluation_svm, ['Metric', \"\"]).show()"
   ]
  },
  {
   "cell_type": "markdown",
   "metadata": {},
   "source": [
    "#### Random Forest"
   ]
  },
  {
   "cell_type": "code",
   "execution_count": 26,
   "metadata": {},
   "outputs": [
    {
     "name": "stdout",
     "output_type": "stream",
     "text": [
      "+---------+-----+\n",
      "|   Metric|     |\n",
      "+---------+-----+\n",
      "|   Recall|0.874|\n",
      "|Precision|0.850|\n",
      "|       f1|0.857|\n",
      "+---------+-----+\n",
      "\n"
     ]
    }
   ],
   "source": [
    "# Train Model\n",
    "from pyspark.ml.classification import RandomForestClassifier\n",
    "\n",
    "rndf = RandomForestClassifier(numTrees = 4, maxDepth = 18, seed = 2)\n",
    "pipeline_rndf = Pipeline(stages=[indexer, encoder, assembler, rndf])\n",
    "\n",
    "model_rndf = pipeline_rndf.fit(Market_train)\n",
    "prediction_rndf = model_rndf.transform(Market_test)\n",
    "\n",
    "# Evaluator Model\n",
    "from pyspark.ml.evaluation import MulticlassClassificationEvaluator \n",
    "\n",
    "rndf_evaluator = MulticlassClassificationEvaluator().setMetricName('weightedRecall')\n",
    "rndf_recall = '{:.3f}'.format(rndf_evaluator.evaluate(prediction_rndf))\n",
    "\n",
    "rndf_evaluator_f1 = MulticlassClassificationEvaluator().setMetricName('f1')\n",
    "rndf_f1 = '{:.3f}'.format(rndf_evaluator_f1.evaluate(prediction_rndf))\n",
    "\n",
    "rndf_evaluator_precision = MulticlassClassificationEvaluator().setMetricName('weightedPrecision')\n",
    "rndf_precision = '{:.3f}'.format(rndf_evaluator_precision.evaluate(prediction_rndf))\n",
    "\n",
    "# create spark DataFrame to tabulate metric\n",
    "Evaluation_rndf = ([['Recall', rndf_recall], ['Precision', rndf_precision], ['f1', rndf_f1]])\n",
    "spark.createDataFrame(Evaluation_rndf, ['Metric', \"\"]).show()"
   ]
  },
  {
   "cell_type": "markdown",
   "metadata": {},
   "source": [
    "#### Gradient-Boosted Trees"
   ]
  },
  {
   "cell_type": "code",
   "execution_count": 27,
   "metadata": {},
   "outputs": [
    {
     "name": "stdout",
     "output_type": "stream",
     "text": [
      "+---------+-----+\n",
      "|   Metric|     |\n",
      "+---------+-----+\n",
      "|   Recall|0.877|\n",
      "|Precision|0.850|\n",
      "|       f1|0.856|\n",
      "+---------+-----+\n",
      "\n"
     ]
    }
   ],
   "source": [
    "# Train Model\n",
    "from pyspark.ml.classification import GBTClassifier\n",
    "\n",
    "GBT = GBTClassifier(maxIter = 10, maxDepth = 8, seed =2)\n",
    "pipeline_GBT = Pipeline(stages=[indexer, encoder, assembler, GBT])\n",
    "\n",
    "model_GBT = pipeline_GBT.fit(Market_train)\n",
    "prediction_GBT = model_GBT.transform(Market_test)\n",
    "\n",
    "# Evaluate Model\n",
    "from pyspark.ml.evaluation import MulticlassClassificationEvaluator \n",
    "\n",
    "GBT_evaluator = MulticlassClassificationEvaluator().setMetricName('weightedRecall')\n",
    "GBT_recall = '{:.3f}'.format(GBT_evaluator.evaluate(prediction_GBT))\n",
    "\n",
    "GBT_evaluator_f1 = MulticlassClassificationEvaluator().setMetricName('f1')\n",
    "GBT_f1 = '{:.3f}'.format(GBT_evaluator_f1.evaluate(prediction_GBT))\n",
    "\n",
    "GBT_evaluator_precision = MulticlassClassificationEvaluator().setMetricName('weightedPrecision')\n",
    "GBT_precision = '{:.3f}'.format(GBT_evaluator_precision.evaluate(prediction_GBT))\n",
    "\n",
    "# create spark DataFrame to tabulate metric\n",
    "Evaluation_GBT = ([['Recall', GBT_recall], ['Precision', GBT_precision], ['f1', GBT_f1]])\n",
    "spark.createDataFrame(Evaluation_GBT, ['Metric', \"\"]).show()"
   ]
  },
  {
   "cell_type": "markdown",
   "metadata": {},
   "source": [
    "The evaluation metric for all the models are put in a single table for comparison:  "
   ]
  },
  {
   "cell_type": "code",
   "execution_count": 28,
   "metadata": {},
   "outputs": [
    {
     "name": "stdout",
     "output_type": "stream",
     "text": [
      "+-------------------+------+-----+---------+\n",
      "|                   |Recall|   f1|Precision|\n",
      "+-------------------+------+-----+---------+\n",
      "|Logistic Regression| 0.878|0.821|    0.771|\n",
      "|                SVM| 0.878|0.821|    0.771|\n",
      "|      Random Forest| 0.874|0.857|    0.850|\n",
      "|   Gradient-Boosted| 0.877|0.856|    0.850|\n",
      "+-------------------+------+-----+---------+\n",
      "\n"
     ]
    }
   ],
   "source": [
    "# Tabulate evaluation metric in a spark DataFrame\n",
    "\n",
    "Evaluation = ([['Logistic Regression', lr_recall, lr_f1, lr_precision], \n",
    "               ['SVM', svm_recall, svm_f1, svm_precision], \n",
    "               ['Random Forest', rndf_recall, rndf_f1, rndf_precision], \n",
    "               ['Gradient-Boosted', GBT_recall, GBT_f1, GBT_precision]])\n",
    "\n",
    "spark.createDataFrame(Evaluation, [\"\", 'Recall', 'f1', 'Precision']).show()"
   ]
  },
  {
   "cell_type": "markdown",
   "metadata": {},
   "source": [
    "## Model Tuning"
   ]
  },
  {
   "cell_type": "markdown",
   "metadata": {},
   "source": [
    "The most promising algorithm is subjected to hyperparameter-tuning using the Crossvalidation and Gridsearch feature of SparkML. Hyperparameters are those model variables or parameters that can be optimized to obtain better model outputs.\n",
    "\n",
    "The Random Forest and Gradient-Boosted Tree models have comparable performance. However, the Random Forest model is preferred for its lower computational cost and amenability to parallel computing."
   ]
  },
  {
   "cell_type": "markdown",
   "metadata": {},
   "source": [
    "### Random Forest"
   ]
  },
  {
   "cell_type": "code",
   "execution_count": 29,
   "metadata": {},
   "outputs": [
    {
     "name": "stdout",
     "output_type": "stream",
     "text": [
      "+---------+-----+\n",
      "|   Metric|     |\n",
      "+---------+-----+\n",
      "|   Recall|0.878|\n",
      "|Precision|0.851|\n",
      "|       f1|0.858|\n",
      "+---------+-----+\n",
      "\n"
     ]
    }
   ],
   "source": [
    "from pyspark.ml.tuning import CrossValidator, ParamGridBuilder\n",
    "\n",
    "# Set up the grid\n",
    "Market_grid = ParamGridBuilder() \\\n",
    "                .addGrid(rndf.maxDepth, [15, 18, 25]) \\\n",
    "                .addGrid(rndf.numTrees, [3, 5, 8]) \\\n",
    "                .addGrid(rndf.seed, [2, 3, 5]) \\\n",
    "                .build()\n",
    "            \n",
    "# Create Crossvalidation object\n",
    "Market_cross_val = CrossValidator(\n",
    "                estimator = pipeline_rndf,\n",
    "                estimatorParamMaps = Market_grid,\n",
    "                evaluator = MulticlassClassificationEvaluator(),\n",
    "                numFolds = 4)\n",
    "\n",
    "# Train and Evaluate CrossValidator\n",
    "Model_cross_val = Market_cross_val.fit(Market_train)\n",
    "prediction_cross_val = Model_cross_val.transform(Market_test)\n",
    "\n",
    "rndff_evaluator_f1 = MulticlassClassificationEvaluator().setMetricName('f1')\n",
    "rndff_f1 = '{:.3f}'.format(rndff_evaluator_f1.evaluate(prediction_cross_val))\n",
    "\n",
    "rndff_evaluator_precision = MulticlassClassificationEvaluator().setMetricName('weightedPrecision')\n",
    "rndff_precision = '{:.3f}'.format(rndff_evaluator_precision.evaluate(prediction_cross_val))\n",
    "\n",
    "rndff_evaluator = MulticlassClassificationEvaluator().setMetricName('weightedRecall')\n",
    "rndff_recall = '{:.3f}'.format(rndff_evaluator.evaluate(prediction_cross_val))\n",
    "\n",
    "# create spark DataFrame to tabulate metric\n",
    "Evaluation_f = ([['Recall', rndff_recall], ['Precision', rndff_precision], ['f1', rndff_f1]])\n",
    "spark.createDataFrame(Evaluation_f, ['Metric', \"\"]).show()"
   ]
  },
  {
   "cell_type": "markdown",
   "metadata": {},
   "source": [
    "### Conclusion"
   ]
  },
  {
   "cell_type": "markdown",
   "metadata": {},
   "source": [
    "A model has been trained to predict customer preference for purchasing subscriptions from a retail bank. This serves to direct scarce human and capital resources towards high potential customers defined by the predictive model. The dataset with which the model was trained consists of features relating to client information, product detail, and socio-economic indicators. The sparkML library from the Apache Spark distributed computing engine was engaged alongside the pyspark API. The Random Forest model is preferred for its robust performance, lower computational cost, and amenability to parallel computing.\n",
    "\n",
    "\n",
    "\n"
   ]
  },
  {
   "cell_type": "markdown",
   "metadata": {},
   "source": [
    "### References"
   ]
  },
  {
   "cell_type": "markdown",
   "metadata": {},
   "source": [
    "[1] S. Moro, P. Cortez and P. Rita (2014). UCI Machine Learning Repository [http://archive.ics.uci.edu/ml]. Irvine, CA: University of California, School of Information and Computer Science.\n",
    "\n",
    "[2] S. Moro, P. Cortez and P. Rita. A Data-Driven Approach to Predict the Success of Bank Telemarketing. Decision Support Systems, Elsevier, 62:22-31, June 2014"
   ]
  },
  {
   "cell_type": "code",
   "execution_count": null,
   "metadata": {},
   "outputs": [],
   "source": []
  }
 ],
 "metadata": {
  "kernelspec": {
   "display_name": "Python 3.7 with Spark",
   "language": "python3",
   "name": "python37"
  },
  "language_info": {
   "codemirror_mode": {
    "name": "ipython",
    "version": 3
   },
   "file_extension": ".py",
   "mimetype": "text/x-python",
   "name": "python",
   "nbconvert_exporter": "python",
   "pygments_lexer": "ipython3",
   "version": "3.7.10"
  }
 },
 "nbformat": 4,
 "nbformat_minor": 2
}
